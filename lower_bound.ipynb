{
 "cells": [
  {
   "cell_type": "code",
   "execution_count": 1,
   "metadata": {},
   "outputs": [],
   "source": [
    "import numpy as np\n",
    "import matplotlib.pyplot as plt"
   ]
  },
  {
   "cell_type": "code",
   "execution_count": 2,
   "metadata": {},
   "outputs": [],
   "source": [
    "D = 101\n",
    "p = np.arange(0,D,1)\n",
    "w = 2*np.pi/D\n",
    "im = complex(0.0,1.0)\n",
    "omega = 0.5 * np.pi # Coin angle\n",
    "n_x = 0         # Coin rotation axis\n",
    "n_y = 1\n",
    "n_z = np.sqrt(1 - (n_x**2) - (n_y**2))\n",
    "n_phi_x = 0\n",
    "n_phi_y = 1\n",
    "n_phi_z = np.sqrt(1 - (n_phi_x**2) - (n_phi_y**2)) # Bloch vector of the initial qubit state"
   ]
  },
  {
   "cell_type": "code",
   "execution_count": 3,
   "metadata": {},
   "outputs": [],
   "source": [
    "Omega = np.arccos( np.cos(w*p) * np.cos(omega/2) + n_z * np.sin(w*p) * np.sin(omega/2) )\n",
    "l_x = ( np.cos(w*p) * np.sin(omega/2) * n_x - np.sin(w*p) * np.sin(omega/2) * n_y ) / np.sin(Omega/2)\n",
    "l_y = ( np.cos(w*p) * np.sin(omega/2) * n_y + np.sin(w*p) * np.sin(omega/2) * n_x ) / np.sin(Omega/2)\n",
    "l_z = ( np.cos(w*p) * np.sin(omega/2) * n_z - np.sin(w*p) * np.cos(omega/2) ) / np.sin(Omega/2)"
   ]
  },
  {
   "cell_type": "code",
   "execution_count": 4,
   "metadata": {},
   "outputs": [],
   "source": [
    "m_x = ( np.cos(w*p) * np.sin(omega/2) * n_x + np.sin(w*p) * np.sin(omega/2) * n_y ) / np.sin(Omega/2)\n",
    "m_y = ( np.cos(w*p) * np.sin(omega/2) * n_y - np.sin(w*p) * np.sin(omega/2) * n_x ) / np.sin(Omega/2)\n",
    "m_z = ( np.cos(w*p) * np.sin(omega/2) * n_z - np.sin(w*p) * np.cos(omega/2) ) / np.sin(Omega/2)"
   ]
  },
  {
   "cell_type": "code",
   "execution_count": 5,
   "metadata": {},
   "outputs": [],
   "source": [
    "u_x = n_phi_y * m_z - n_phi_z * m_y + l_y * n_phi_z - l_z * n_phi_y - im * m_x - im * l_x\n",
    "u_y = n_phi_z * m_x - n_phi_x * m_z + l_z * n_phi_x - l_x * n_phi_z - im * m_y - im * l_y\n",
    "l_dot_n_phi = l_x * n_phi_x + l_y * n_phi_y + l_z * n_phi_z\n",
    "v_x = - l_dot_n_phi * m_x - im * (l_y * m_z - l_z * m_y) + (l_z * n_phi_x - l_x * n_phi_z) * m_z - (l_x * n_phi_y - l_y * n_phi_x) * m_y\n",
    "v_y = - l_dot_n_phi * m_y - im * (l_z * m_x - l_x * m_z) + (l_x * n_phi_y - l_y * n_phi_x) * m_x - (l_y * n_phi_z - l_z * n_phi_y) * m_z"
   ]
  },
  {
   "cell_type": "code",
   "execution_count": 6,
   "metadata": {},
   "outputs": [],
   "source": [
    "sum_coeff = im * u_x * u_y + (u_y ** 2) + 3*(im * v_x * v_y + (v_y**2)) + 3*(im * n_phi_x * n_phi_y + (n_phi_y**2)) + im * v_y * n_phi_x + im * v_x * n_phi_y + 2 * v_y * n_phi_y\n",
    "lower_bound = np.absolute(np.sum(sum_coeff)) / (8 * D)"
   ]
  },
  {
   "cell_type": "code",
   "execution_count": 7,
   "metadata": {},
   "outputs": [
    {
     "name": "stdout",
     "output_type": "stream",
     "text": [
      "0.42496181899718033\n"
     ]
    }
   ],
   "source": [
    "print(lower_bound)"
   ]
  },
  {
   "cell_type": "code",
   "execution_count": null,
   "metadata": {},
   "outputs": [],
   "source": []
  }
 ],
 "metadata": {
  "kernelspec": {
   "display_name": "Python 3",
   "language": "python",
   "name": "python3"
  },
  "language_info": {
   "codemirror_mode": {
    "name": "ipython",
    "version": 3
   },
   "file_extension": ".py",
   "mimetype": "text/x-python",
   "name": "python",
   "nbconvert_exporter": "python",
   "pygments_lexer": "ipython3",
   "version": "3.12.3"
  }
 },
 "nbformat": 4,
 "nbformat_minor": 2
}
