{
 "cells": [
  {
   "cell_type": "code",
   "execution_count": null,
   "metadata": {},
   "outputs": [],
   "source": [
    "%matplotlib ipympl\n",
    "import numpy as np\n",
    "from matplotlib import pyplot as plt\n",
    "from matplotlib import animation as anim\n",
    "# plt.ion()"
   ]
  },
  {
   "cell_type": "code",
   "execution_count": null,
   "metadata": {},
   "outputs": [],
   "source": [
    "D = 5\n",
    "n_qubits = 15\n",
    "interaction_pattern = \"o\"\n",
    "fps = 15\n",
    "savefilename = \"prueba.mp4\"\n",
    "filename = \"probs_dim\" + str(D) + \"_q\" + str(n_qubits) + \".txt\"\n",
    "probs = np.genfromtxt(\"C:/dev/Multicqw/data/probs/\"+interaction_pattern+filename, usecols = 0, delimiter=\",\", dtype = float)\n",
    "DT = probs.size\n",
    "T = round(DT / D)\n",
    "print(T)\n",
    "probs = np.reshape(probs,(D,T))"
   ]
  },
  {
   "cell_type": "code",
   "execution_count": null,
   "metadata": {},
   "outputs": [],
   "source": [
    "if (interaction_pattern == \"o\"):\n",
    "    pattern = \"ordenado\"\n",
    "elif (interaction_pattern == \"r\"):\n",
    "    pattern = \"aleatorio\"\n",
    "elif (interaction_pattern == \"c\"):\n",
    "    pattern = \"completamente sesgado\"\n",
    "elif (interaction_pattern == \"b\"):\n",
    "    pattern = \"ligeramente sesgado\""
   ]
  },
  {
   "cell_type": "code",
   "execution_count": null,
   "metadata": {},
   "outputs": [],
   "source": [
    "fig = plt.figure()\n",
    "ax = plt.subplot()\n",
    "ax.set_xlim(0,D)\n",
    "ax.set_ylim(0,1)\n",
    "ax.grid()\n",
    "ax.set_title(\"Dimensión central: \" + str(D) + \", \" + str(n_qubits) + \" qubits, \" + pattern)\n",
    "barContainer = ax.bar(np.arange(D),np.zeros(D,float),color=\"blue\",width=1,align='center')\n",
    "text = ax.text(0.7,0.9,\"t=\"+str(0),transform=ax.transAxes)\n",
    "\n",
    "def initConc():\n",
    "    for rect, h in zip(barContainer.patches,probs[:,0]): #\n",
    "        rect.set_height(h)\n",
    "    text.set_text(\"time = 0\")\n",
    "    return barContainer.patches\n",
    "\n",
    "\n",
    "def animateConc(t):\n",
    "    for rect, h in zip(barContainer.patches,probs[:,t]): #\n",
    "        rect.set_height(h)\n",
    "    text.set_text('time = %.0f' %(t))\n",
    "    return barContainer.patches\n",
    "\n",
    "ani = anim.FuncAnimation(fig,animateConc,interval=16,repeat=True,blit=True,frames=10,init_func=initConc)\n",
    "\n",
    "# ani.save(savefilename, writer=anim.FFMpegWriter(fps=fps))\n",
    "plt.show()"
   ]
  },
  {
   "cell_type": "code",
   "execution_count": null,
   "metadata": {},
   "outputs": [],
   "source": []
  }
 ],
 "metadata": {
  "kernelspec": {
   "display_name": "Python 3",
   "language": "python",
   "name": "python3"
  },
  "language_info": {
   "codemirror_mode": {
    "name": "ipython",
    "version": 3
   },
   "file_extension": ".py",
   "mimetype": "text/x-python",
   "name": "python",
   "nbconvert_exporter": "python",
   "pygments_lexer": "ipython3",
   "version": "3.12.3"
  }
 },
 "nbformat": 4,
 "nbformat_minor": 2
}
