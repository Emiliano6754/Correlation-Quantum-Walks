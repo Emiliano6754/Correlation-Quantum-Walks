{
 "cells": [
  {
   "cell_type": "code",
   "execution_count": 1,
   "metadata": {},
   "outputs": [],
   "source": [
    "import numpy as np\n",
    "import matplotlib.pyplot as plt\n",
    "from matplotlib.colors import LightSource"
   ]
  },
  {
   "cell_type": "code",
   "execution_count": 2,
   "metadata": {},
   "outputs": [],
   "source": [
    "from matplotlib import rc\n",
    "rc('font',**{'family':'serif','serif':['Times']})\n",
    "rc('text', usetex=True)"
   ]
  },
  {
   "cell_type": "code",
   "execution_count": null,
   "metadata": {},
   "outputs": [],
   "source": [
    "n_qubits = 2\n",
    "D = 101\n",
    "betas_res = 2\n",
    "gammas_res = 2\n",
    "betas = np.linspace(0,np.pi,betas_res)\n",
    "gammas = np.linspace(0,2*np.pi,gammas_res)\n",
    "averages = np.zeros((betas_res,gammas_res),np.longdouble)\n",
    "for b in range(betas_res):\n",
    "    for g in range(gammas_res):\n",
    "        n = b * gammas_res + g\n",
    "        filename = str(n) + \".txt\"\n",
    "        real = np.genfromtxt(\"C:/dev/Multicqw/data/states/batch_coins/\"+filename, usecols = 0, delimiter=\",\", dtype = np.longdouble)\n",
    "        imag = np.genfromtxt(\"C:/dev/Multicqw/data/states/batch_coins/\"+filename, usecols = 1, delimiter=\",\", dtype = np.longdouble)\n",
    "        T = round((real.size)/(D*2*2))\n",
    "        state = np.reshape(real + imag * (1.0j),(T,D,2,2))\n",
    "        concurrences = np.sum(np.absolute(2 * (state[:,:,1,1]*state[:,:,0,0] - state[:,:,1,0]*state[:,:,0,1])),axis=1)\n",
    "        averages[b,g] = np.average(concurrences)"
   ]
  },
  {
   "cell_type": "code",
   "execution_count": null,
   "metadata": {},
   "outputs": [],
   "source": [
    "_xx, _yy = np.meshgrid(betas, gammas)\n",
    "x, y = _xx.ravel(), _yy.ravel()\n",
    "width = np.max(betas)/betas_res\n",
    "depth = np.max(gammas)/gammas_res\n",
    "light = LightSource(azdeg=315,altdeg=60)\n",
    "fig = plt.figure(figsize=(6,4.5),dpi=300)\n",
    "ax = fig.add_subplot(projection='3d')\n",
    "ax.view_init(elev=25,azim=-160,roll=0)\n",
    "ax.set_xlabel(r'$\\beta$',fontsize=12)\n",
    "ax.set_ylabel(r'$\\gamma$',fontsize=12)\n",
    "ax.set_zlabel(r'$\\bar{C}(\\beta,\\gamma)$',fontsize=12)\n",
    "ax.set_box_aspect(None, zoom=0.85)\n",
    "ax.xaxis.labelpad = 5\n",
    "ax.yaxis.labelpad = 5\n",
    "ax.zaxis.labelpad = 5\n",
    "ax.bar3d(x,y,0,width,depth,averages.flatten('F'),lightsource=light)"
   ]
  }
 ],
 "metadata": {
  "kernelspec": {
   "display_name": "Python 3",
   "language": "python",
   "name": "python3"
  },
  "language_info": {
   "codemirror_mode": {
    "name": "ipython",
    "version": 3
   },
   "file_extension": ".py",
   "mimetype": "text/x-python",
   "name": "python",
   "nbconvert_exporter": "python",
   "pygments_lexer": "ipython3",
   "version": "3.12.0"
  }
 },
 "nbformat": 4,
 "nbformat_minor": 2
}
