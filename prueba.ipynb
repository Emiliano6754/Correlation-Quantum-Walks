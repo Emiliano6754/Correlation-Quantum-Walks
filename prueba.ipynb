{
 "cells": [
  {
   "cell_type": "code",
   "execution_count": null,
   "metadata": {},
   "outputs": [],
   "source": [
    "import numpy as np\n",
    "from matplotlib import pyplot as plt"
   ]
  },
  {
   "cell_type": "code",
   "execution_count": null,
   "metadata": {},
   "outputs": [],
   "source": [
    "# filename = \"estadop.txt\"\n",
    "CenterDim = 5\n",
    "D = CenterDim\n",
    "start = 0\n",
    "rowsgif = CenterDim * 2 * 2 * 1000\n",
    "# real = np.genfromtxt(\"C:/dev/Multicqw/\"+filename, usecols = 0, delimiter=\",\", dtype = float, skip_header=start, max_rows=rowsgif)\n",
    "# imag = np.genfromtxt(\"C:/dev/Multicqw/\"+filename,usecols = 1, delimiter=\",\", dtype = float, skip_header=start, max_rows=rowsgif)\n",
    "# T = round((real.size)/(CenterDim*2*2))\n",
    "# print(T)\n",
    "# pfullstate = np.zeros((T,CenterDim,2,2),complex)\n",
    "# for t in range(T):\n",
    "#     init = t*(CenterDim*2*2)\n",
    "\n",
    "#     for i in range(CenterDim):\n",
    "#         for j in range(2):\n",
    "#             for k in range(2):\n",
    "#                 pfullstate[t,i,j,k] = complex(real[init + i*2*2 + j*2 + k],imag[init + i*2*2 + j*2 + k])\n",
    "\n",
    "filename = \"state_dim5_q2.txt\"\n",
    "real = np.genfromtxt(\"C:/dev/Multicqw/\"+filename, usecols = 0, delimiter=\",\", dtype = float, skip_header=start, max_rows=rowsgif)\n",
    "imag = np.genfromtxt(\"C:/dev/Multicqw/\"+filename,usecols = 1, delimiter=\",\", dtype = float, skip_header=start, max_rows=rowsgif)\n",
    "T = round((real.size)/(CenterDim*2*2))\n",
    "print(T)\n",
    "fullstate = np.zeros((T,CenterDim,2,2),complex)\n",
    "for t in range(T):\n",
    "    init = t*(CenterDim*2*2)\n",
    "\n",
    "    for i in range(CenterDim):\n",
    "        for j in range(2):\n",
    "            for k in range(2):\n",
    "                fullstate[t,i,j,k] = complex(real[init + i*2*2 + j*2 + k],imag[init + i*2*2 + j*2 + k])"
   ]
  },
  {
   "cell_type": "code",
   "execution_count": null,
   "metadata": {},
   "outputs": [],
   "source": [
    "p = np.arange(0,D,1)\n",
    "sqrt2 = np.sqrt(2)\n",
    "w = 2*np.pi/D\n",
    "im = complex(0.0,1.0)\n",
    "U = np.zeros((D,2,2),np.csingle)\n",
    "U[:,0,0] = -1/sqrt2 * (np.cos(w*p) + im*np.sin(w*p)) # [0] representa |0> y [1] |1>\n",
    "U[:,1,0] = 1/sqrt2 * (np.cos(w*p) - im*np.sin(w*p))\n",
    "U[:,0,1] = 1/sqrt2 * (np.cos(w*p) + im*np.sin(w*p))\n",
    "U[:,1,1] = 1/sqrt2 * (np.cos(w*p) - im*np.sin(w*p))\n"
   ]
  },
  {
   "cell_type": "code",
   "execution_count": null,
   "metadata": {},
   "outputs": [],
   "source": [
    "# For convinience, operate in p basis\n",
    "instate = np.zeros((D,2,2),np.csingle)\n",
    "pstate = np.zeros((D,2,2),np.csingle)\n",
    "transf = np.zeros((D,D),np.csingle)\n",
    "omegap = np.exp(im*w*p)\n",
    "for m in p:\n",
    "    transf[m,:] = omegap**m\n",
    "np.multiply(1/np.sqrt(D),transf,out=transf)\n",
    "\n",
    "instate[0,0,0] = 0.5\n",
    "instate[0,1,0] = 0.5*im\n",
    "instate[0,0,1] = 0.5*im\n",
    "instate[0,1,1] = -0.5\n",
    "np.einsum('pq,qmn -> pmn',transf,instate,out=pstate)\n",
    "# print(pstate)\n",
    "N = 1\n",
    "k = 1\n",
    "# Calculate first as crude exponential\n",
    "midstate = np.zeros((D,2,2),np.csingle)\n",
    "finstate = np.zeros((D,2,2),np.csingle)\n",
    "U1 = np.zeros((D,2,2),np.csingle)\n",
    "U2 = np.zeros((D,2,2),np.csingle)\n",
    "for q in p:\n",
    "    U1[q,:,:] = np.linalg.matrix_power(U[q,:,:],N)\n",
    "    U2[q,:,:] = np.linalg.matrix_power(U[q,:,:],k)\n",
    "evop = np.einsum('pjk,pmn->pjkmn',U1,U2) \n",
    "np.einsum('pjkmn,pkn->pjm',evop,pstate,out=finstate)\n",
    "result = np.einsum('pq,pmn->qmn',np.conj(transf),finstate)\n",
    "print(result)\n",
    "# concurrence = np.sum(2*np.absolute(np.multiply(result[:,0,0],result[:,1,1]) - np.multiply(result[:,0,1],result[:,1,0])))"
   ]
  },
  {
   "cell_type": "code",
   "execution_count": null,
   "metadata": {},
   "outputs": [],
   "source": [
    "print(fullstate[1,:,:,:])"
   ]
  },
  {
   "cell_type": "code",
   "execution_count": null,
   "metadata": {},
   "outputs": [],
   "source": []
  }
 ],
 "metadata": {
  "kernelspec": {
   "display_name": "Python 3",
   "language": "python",
   "name": "python3"
  },
  "language_info": {
   "codemirror_mode": {
    "name": "ipython",
    "version": 3
   },
   "file_extension": ".py",
   "mimetype": "text/x-python",
   "name": "python",
   "nbconvert_exporter": "python",
   "pygments_lexer": "ipython3",
   "version": "3.12.3"
  }
 },
 "nbformat": 4,
 "nbformat_minor": 2
}
