{
 "cells": [
  {
   "cell_type": "code",
   "execution_count": 1,
   "metadata": {},
   "outputs": [],
   "source": [
    "import numpy as np\n",
    "from matplotlib import pyplot as plt"
   ]
  },
  {
   "cell_type": "code",
   "execution_count": 2,
   "metadata": {},
   "outputs": [
    {
     "name": "stdout",
     "output_type": "stream",
     "text": [
      "2\n",
      "2\n"
     ]
    }
   ],
   "source": [
    "filename = \"estadop.txt\"\n",
    "CenterDim = 7\n",
    "D = CenterDim\n",
    "start = 0\n",
    "rowsgif = CenterDim * 2 * 2 * 2\n",
    "real = np.genfromtxt(\"C:/dev/Multicqw/\"+filename, usecols = 0, delimiter=\",\", dtype = float, skip_header=start, max_rows=rowsgif)\n",
    "imag = np.genfromtxt(\"C:/dev/Multicqw/\"+filename,usecols = 1, delimiter=\",\", dtype = float, skip_header=start, max_rows=rowsgif)\n",
    "T = round((real.size)/(CenterDim*2*2))\n",
    "print(T)\n",
    "pfullstate = np.zeros((T,CenterDim,2,2),complex)\n",
    "for t in range(T):\n",
    "    init = t*(CenterDim*2*2)\n",
    "\n",
    "    for i in range(CenterDim):\n",
    "        for j in range(2):\n",
    "            for k in range(2):\n",
    "                pfullstate[t,i,j,k] = complex(real[init + i*2*2 + j*2 + k],imag[init + i*2*2 + j*2 + k])\n",
    "\n",
    "filename = \"testo.txt\"\n",
    "real = np.genfromtxt(\"C:/dev/Multicqw/\"+filename, usecols = 0, delimiter=\",\", dtype = float, skip_header=start, max_rows=rowsgif)\n",
    "imag = np.genfromtxt(\"C:/dev/Multicqw/\"+filename,usecols = 1, delimiter=\",\", dtype = float, skip_header=start, max_rows=rowsgif)\n",
    "T = round((real.size)/(CenterDim*2*2))\n",
    "print(T)\n",
    "fullstate = np.zeros((T,CenterDim,2,2),complex)\n",
    "for t in range(T):\n",
    "    init = t*(CenterDim*2*2)\n",
    "\n",
    "    for i in range(CenterDim):\n",
    "        for j in range(2):\n",
    "            for k in range(2):\n",
    "                fullstate[t,i,j,k] = complex(real[init + i*2*2 + j*2 + k],imag[init + i*2*2 + j*2 + k])"
   ]
  },
  {
   "cell_type": "code",
   "execution_count": 3,
   "metadata": {},
   "outputs": [],
   "source": [
    "p = np.arange(0,D,1)\n",
    "sqrt2 = np.sqrt(2)\n",
    "w = 2*np.pi/D\n",
    "im = complex(0.0,1.0)\n",
    "U = np.zeros((D,2,2),np.csingle)\n",
    "U[:,0,0] = -1/sqrt2 * (np.cos(w*p) - im*np.sin(w*p)) # [0] representa |0> y [1] |1>\n",
    "U[:,1,0] = 1/sqrt2 * (np.cos(w*p) + im*np.sin(w*p))\n",
    "U[:,0,1] = 1/sqrt2 * (np.cos(w*p) - im*np.sin(w*p))\n",
    "U[:,1,1] = 1/sqrt2 * (np.cos(w*p) + im*np.sin(w*p))\n"
   ]
  },
  {
   "cell_type": "code",
   "execution_count": 4,
   "metadata": {},
   "outputs": [
    {
     "name": "stdout",
     "output_type": "stream",
     "text": [
      "[[[-0.13363062+0.13363062j  0.13363062+0.13363062j]\n",
      "  [-0.13363062-0.13363062j -0.13363062+0.13363062j]]\n",
      "\n",
      " [[ 0.0211593 +0.18779394j -0.0211593 +0.18779394j]\n",
      "  [-0.18779394+0.0211593j  -0.18779394-0.0211593j ]]\n",
      "\n",
      " [[ 0.16001584+0.10054462j -0.16001584+0.10054462j]\n",
      "  [-0.10054462+0.16001584j -0.10054462-0.16001584j]]\n",
      "\n",
      " [[ 0.17837718-0.06241688j -0.17837718-0.06241688j]\n",
      "  [ 0.06241688+0.17837718j  0.06241688-0.17837718j]]\n",
      "\n",
      " [[ 0.06241688-0.17837718j -0.06241688-0.17837718j]\n",
      "  [ 0.17837718+0.06241688j  0.17837718-0.06241688j]]\n",
      "\n",
      " [[-0.10054462-0.16001584j  0.10054462-0.16001584j]\n",
      "  [ 0.16001584-0.10054462j  0.16001584+0.10054462j]]\n",
      "\n",
      " [[-0.18779394-0.0211593j   0.18779394-0.0211593j ]\n",
      "  [ 0.0211593 -0.18779394j  0.0211593 +0.18779394j]]]\n"
     ]
    }
   ],
   "source": [
    "# For convinience, operate in p basis\n",
    "instate = np.zeros((D,2,2),np.csingle)\n",
    "pstate = np.zeros((D,2,2),np.csingle)\n",
    "transf = np.zeros((D,D),np.csingle)\n",
    "omegap = np.exp(im*w*p)\n",
    "for m in p:\n",
    "    transf[m,:] = omegap**m\n",
    "np.multiply(1/np.sqrt(D),transf,out=transf)\n",
    "\n",
    "instate[0,0,0] = 0.5\n",
    "instate[0,1,0] = 0.5*im\n",
    "instate[0,0,1] = 0.5*im\n",
    "instate[0,1,1] = -0.5\n",
    "np.einsum('pq,qmn -> pmn',transf,instate,out=pstate)\n",
    "# print(pstate)\n",
    "N = 1\n",
    "k = round(N/2)\n",
    "# Calculate first as crude exponential\n",
    "midstate = np.zeros((D,2,2),np.csingle)\n",
    "finstate = np.zeros((D,2,2),np.csingle)\n",
    "U1 = np.zeros((D,2,2),np.csingle)\n",
    "U2 = np.zeros((D,2,2),np.csingle)\n",
    "for q in p:\n",
    "    U1[q,:,:] = np.linalg.matrix_power(U[q,:,:],k)\n",
    "    U2[q,:,:] = np.linalg.matrix_power(U[q,:,:],N-k)\n",
    "evop = np.einsum('pjk,pmn->pjkmn',U1,U2) \n",
    "np.einsum('pjkmn,pkn->pjm',evop,pstate,out=finstate)\n",
    "result = np.einsum('pq,pmn->qmn',np.conj(transf),finstate)\n",
    "print(finstate)\n",
    "# concurrence = np.sum(2*np.absolute(np.multiply(result[:,0,0],result[:,1,1]) - np.multiply(result[:,0,1],result[:,1,0])))"
   ]
  },
  {
   "cell_type": "code",
   "execution_count": 5,
   "metadata": {},
   "outputs": [
    {
     "name": "stdout",
     "output_type": "stream",
     "text": [
      "[[[-0.133631 +0.133631j  -0.133631 -0.133631j ]\n",
      "  [ 0.133631 +0.133631j  -0.133631 +0.133631j ]]\n",
      "\n",
      " [[-0.187794 -0.0211593j  0.0211593-0.187794j ]\n",
      "  [ 0.129858 +0.137299j  -0.137299 +0.129858j ]]\n",
      "\n",
      " [[-0.100545 -0.160016j   0.160016 -0.100545j ]\n",
      "  [ 0.129858 +0.137299j  -0.137299 +0.129858j ]]\n",
      "\n",
      " [[ 0.0624169-0.178377j   0.178377 +0.0624169j]\n",
      "  [ 0.129858 +0.137299j  -0.137299 +0.129858j ]]\n",
      "\n",
      " [[ 0.178377 -0.0624169j  0.0624169+0.178377j ]\n",
      "  [ 0.129858 +0.137299j  -0.137299 +0.129858j ]]\n",
      "\n",
      " [[ 0.160016 +0.100545j  -0.100545 +0.160016j ]\n",
      "  [ 0.129858 +0.137299j  -0.137299 +0.129858j ]]\n",
      "\n",
      " [[ 0.0211592+0.187794j  -0.187794 +0.0211592j]\n",
      "  [ 0.129858 +0.137299j  -0.137299 +0.129858j ]]]\n"
     ]
    }
   ],
   "source": [
    "print(pfullstate[1,:,:,:])"
   ]
  }
 ],
 "metadata": {
  "kernelspec": {
   "display_name": "Python 3",
   "language": "python",
   "name": "python3"
  },
  "language_info": {
   "codemirror_mode": {
    "name": "ipython",
    "version": 3
   },
   "file_extension": ".py",
   "mimetype": "text/x-python",
   "name": "python",
   "nbconvert_exporter": "python",
   "pygments_lexer": "ipython3",
   "version": "3.12.0"
  }
 },
 "nbformat": 4,
 "nbformat_minor": 2
}
