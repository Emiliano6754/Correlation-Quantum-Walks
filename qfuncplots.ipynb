{
 "cells": [
  {
   "cell_type": "code",
   "execution_count": 1,
   "metadata": {},
   "outputs": [],
   "source": [
    "%matplotlib ipympl\n",
    "import numpy as np\n",
    "from matplotlib import pyplot as plt"
   ]
  },
  {
   "cell_type": "code",
   "execution_count": 2,
   "metadata": {},
   "outputs": [],
   "source": [
    "from matplotlib import rc\n",
    "rc('font',**{'family':'serif','serif':['Times']})\n",
    "rc('text', usetex=True)"
   ]
  },
  {
   "cell_type": "code",
   "execution_count": 3,
   "metadata": {},
   "outputs": [
    {
     "name": "stdout",
     "output_type": "stream",
     "text": [
      "103424.0\n"
     ]
    }
   ],
   "source": [
    "D = 101\n",
    "interaction_pattern = \"r\"\n",
    "n_qubits = 10\n",
    "qubitstate_size = 2**n_qubits\n",
    "# savefilepath = \"C:/dev/Multicqw/biased_plots/\"\n",
    "filename = \"sqfuncs_dim\" + str(D) + \"_q\" + str(n_qubits) + \".txt\"\n",
    "squared_Qfuncs = np.genfromtxt(\"C:/dev/Multicqw/data/squared_Qfuncs/\"+interaction_pattern+filename, usecols = 0, delimiter=\",\", dtype = float)\n",
    "length = squared_Qfuncs.size\n",
    "print(float(length)/qubitstate_size)\n",
    "squared_Qfuncs = np.reshape(squared_Qfuncs,(D,qubitstate_size,qubitstate_size))\n",
    "\n",
    "_x = np.arange(qubitstate_size)\n",
    "_y = np.arange(qubitstate_size)\n",
    "_xx, _yy = np.meshgrid(_x, _y)\n",
    "x, y = _xx.ravel(), _yy.ravel()\n",
    "width = depth = 1"
   ]
  },
  {
   "cell_type": "code",
   "execution_count": 4,
   "metadata": {},
   "outputs": [
    {
     "name": "stdout",
     "output_type": "stream",
     "text": [
      "0.17495423992864198\n"
     ]
    }
   ],
   "source": [
    "print(np.trace(squared_Qfuncs[0])/np.sum(squared_Qfuncs[0]))"
   ]
  },
  {
   "cell_type": "code",
   "execution_count": 5,
   "metadata": {},
   "outputs": [],
   "source": [
    "fig = plt.figure(figsize=(6,4.5))\n",
    "ax = fig.add_subplot(projection='3d')\n",
    "ax.bar3d(x,y,0,width,depth,squared_Qfuncs[0,:,:].flatten())"
   ]
  },
  {
   "cell_type": "code",
   "execution_count": 6,
   "metadata": {},
   "outputs": [],
   "source": [
    "fig = plt.figure(figsize=(6,4.5))\n",
    "ax = fig.add_subplot(projection='3d')\n",
    "ax.bar3d(x,y,0,width,depth,squared_Qfuncs[D-3,:,:].flatten())"
   ]
  },
  {
   "cell_type": "code",
   "execution_count": null,
   "metadata": {},
   "outputs": [],
   "source": []
  }
 ],
 "metadata": {
  "kernelspec": {
   "display_name": "Python 3",
   "language": "python",
   "name": "python3"
  },
  "language_info": {
   "codemirror_mode": {
    "name": "ipython",
    "version": 3
   },
   "file_extension": ".py",
   "mimetype": "text/x-python",
   "name": "python",
   "nbconvert_exporter": "python",
   "pygments_lexer": "ipython3",
   "version": "3.12.3"
  }
 },
 "nbformat": 4,
 "nbformat_minor": 2
}
