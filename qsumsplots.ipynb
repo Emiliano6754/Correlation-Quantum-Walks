{
 "cells": [
  {
   "cell_type": "code",
   "execution_count": null,
   "metadata": {},
   "outputs": [],
   "source": [
    "#matplotlib ipympl\n",
    "import numpy as np\n",
    "from matplotlib import pyplot as plt"
   ]
  },
  {
   "cell_type": "code",
   "execution_count": null,
   "metadata": {},
   "outputs": [],
   "source": [
    "# import matplotlib as mpl\n",
    "# mpl.rcParams.update(mpl.rcParamsDefault)"
   ]
  },
  {
   "cell_type": "code",
   "execution_count": null,
   "metadata": {},
   "outputs": [],
   "source": [
    "# from matplotlib import rc\n",
    "# rc('font',**{'family':'serif','serif':['Times']})\n",
    "# rc('text', usetex=True)"
   ]
  },
  {
   "cell_type": "code",
   "execution_count": null,
   "metadata": {},
   "outputs": [],
   "source": [
    "D = 101\n",
    "n_qubits = 5\n",
    "interaction_pattern = \"r\"\n",
    "filename = \"qsums_dim\" + str(D) + \"_q\" + str(n_qubits) + \".txt\"\n",
    "Qsums = np.genfromtxt(\"C:/dev/Multicqw/data/sums/\"+interaction_pattern+filename, usecols = 0, delimiter=\",\", dtype = float)\n",
    "T = Qsums.size\n",
    "print(T)"
   ]
  },
  {
   "cell_type": "code",
   "execution_count": null,
   "metadata": {},
   "outputs": [],
   "source": [
    "k = np.log(((3/4)**n_qubits) * Qsums)\n",
    "k *= 1.0/np.log(8.0/9)"
   ]
  },
  {
   "cell_type": "code",
   "execution_count": null,
   "metadata": {},
   "outputs": [],
   "source": [
    "print(k)\n",
    "# k /= max(k)"
   ]
  },
  {
   "cell_type": "code",
   "execution_count": null,
   "metadata": {},
   "outputs": [],
   "source": [
    "t = np.arange(0,T)\n",
    "\n",
    "fig = plt.figure(figsize=(6,4.5))\n",
    "fig.clear()\n",
    "ax = fig.subplots()\n",
    "# ax.set_title(r'$k = \\log_{8/9} \\left[ \\left( \\frac{3}{4} \\right)^{n_q} \\cdot \\sum Q^2 \\right]$')\n",
    "ax.plot(t,k,'k-', lw=0.5)\n",
    "ax.set_xlim(0,T)\n",
    "ax.set_xlabel(\"N\")\n",
    "# ax.set_ylim(0,max(k))\n",
    "ax.set_ylim(0,7)\n",
    "ax.set_ylabel(\"k\")\n",
    "avg = np.average(k[400:])\n",
    "ax.plot((0,T),(avg,avg),'--', label = r'$\\bar{k} \\approx $' + str(avg)[:6],lw=2,color=\"darkred\")\n",
    "ax.legend(loc='lower right')\n",
    "# ax.spines[['right','top']].set_visible(False)"
   ]
  },
  {
   "cell_type": "code",
   "execution_count": null,
   "metadata": {},
   "outputs": [],
   "source": []
  }
 ],
 "metadata": {
  "kernelspec": {
   "display_name": "Python 3",
   "language": "python",
   "name": "python3"
  },
  "language_info": {
   "codemirror_mode": {
    "name": "ipython",
    "version": 3
   },
   "file_extension": ".py",
   "mimetype": "text/x-python",
   "name": "python",
   "nbconvert_exporter": "python",
   "pygments_lexer": "ipython3",
   "version": "3.12.3"
  }
 },
 "nbformat": 4,
 "nbformat_minor": 2
}
